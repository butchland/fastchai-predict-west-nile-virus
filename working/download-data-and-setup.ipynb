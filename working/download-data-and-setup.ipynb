{
 "cells": [
  {
   "cell_type": "code",
   "execution_count": 1,
   "metadata": {},
   "outputs": [],
   "source": [
    "COMP_NAME = 'predict-west-nile-virus'"
   ]
  },
  {
   "cell_type": "code",
   "execution_count": 2,
   "metadata": {},
   "outputs": [],
   "source": [
    "from fastai.tabular.all import *"
   ]
  },
  {
   "cell_type": "code",
   "execution_count": 3,
   "metadata": {},
   "outputs": [],
   "source": [
    "WORKING_DIR = Path(\".\").absolute()\n",
    "INPUT_DIR = Path(\"../input\").absolute()\n",
    "ARCHIVE_DIR = Path(\"../archive\").absolute()\n",
    "MODELS_DIR = Path(\"../models\").absolute()"
   ]
  },
  {
   "cell_type": "code",
   "execution_count": 4,
   "metadata": {},
   "outputs": [
    {
     "name": "stdout",
     "output_type": "stream",
     "text": [
      "/Users/butch/.fastai/archive\n"
     ]
    }
   ],
   "source": [
    "%cd {ARCHIVE_DIR}"
   ]
  },
  {
   "cell_type": "code",
   "execution_count": 5,
   "metadata": {},
   "outputs": [
    {
     "data": {
      "text/plain": [
       "Path('/Users/butch/devt/workspaces/python3/fastai2_2020/fastchai_comps/predict-west-nile-virus/working')"
      ]
     },
     "execution_count": 5,
     "metadata": {},
     "output_type": "execute_result"
    }
   ],
   "source": [
    "WORKING_DIR"
   ]
  },
  {
   "cell_type": "code",
   "execution_count": 6,
   "metadata": {},
   "outputs": [
    {
     "name": "stdout",
     "output_type": "stream",
     "text": [
      "koryakinp_fingers.zip       predict-west-nile-virus.zip\r\n",
      "ml-100k.zip                 titanic.zip\r\n"
     ]
    }
   ],
   "source": [
    "!ls *.zip"
   ]
  },
  {
   "cell_type": "code",
   "execution_count": 7,
   "metadata": {},
   "outputs": [
    {
     "name": "stdout",
     "output_type": "stream",
     "text": [
      "/Users/butch/.fastai/data\n"
     ]
    }
   ],
   "source": [
    "%cd {INPUT_DIR}"
   ]
  },
  {
   "cell_type": "code",
   "execution_count": 8,
   "metadata": {},
   "outputs": [
    {
     "name": "stdout",
     "output_type": "stream",
     "text": [
      "/Users/butch/.fastai/data/predict-west-nile-virus\n"
     ]
    }
   ],
   "source": [
    "!mkdir -p {COMP_NAME}\n",
    "%cd {COMP_NAME}"
   ]
  },
  {
   "cell_type": "code",
   "execution_count": 9,
   "metadata": {},
   "outputs": [
    {
     "name": "stdout",
     "output_type": "stream",
     "text": [
      "Archive:  /Users/butch/devt/workspaces/python3/fastai2_2020/fastchai_comps/predict-west-nile-virus/working/../archive/predict-west-nile-virus.zip\n",
      "  inflating: mapdata_copyright_openstreetmap_contributors.rds  \n",
      "  inflating: mapdata_copyright_openstreetmap_contributors.txt.zip  \n",
      "  inflating: noaa_weather_qclcd_documentation.pdf  \n",
      "  inflating: sampleSubmission.csv.zip  \n",
      "  inflating: spray.csv.zip           \n",
      "  inflating: test.csv.zip            \n",
      "  inflating: train.csv.zip           \n",
      "  inflating: weather.csv.zip         \n",
      "  inflating: west_nile.zip           \n"
     ]
    }
   ],
   "source": [
    "!unzip {ARCHIVE_DIR/'predict-west-nile-virus.zip'} "
   ]
  },
  {
   "cell_type": "code",
   "execution_count": 10,
   "metadata": {},
   "outputs": [
    {
     "name": "stdout",
     "output_type": "stream",
     "text": [
      "-rw-r--r--  1 butch  staff  2471791 Dec 11  2019 mapdata_copyright_openstreetmap_contributors.rds\r\n",
      "-rw-r--r--  1 butch  staff  2705397 Dec 11  2019 mapdata_copyright_openstreetmap_contributors.txt.zip\r\n",
      "-rw-r--r--  1 butch  staff    87217 Dec 11  2019 noaa_weather_qclcd_documentation.pdf\r\n",
      "-rw-r--r--  1 butch  staff   250106 Dec 11  2019 sampleSubmission.csv.zip\r\n",
      "-rw-r--r--  1 butch  staff   135761 Dec 11  2019 spray.csv.zip\r\n",
      "-rw-r--r--  1 butch  staff  1412748 Dec 11  2019 test.csv.zip\r\n",
      "-rw-r--r--  1 butch  staff   116356 Dec 11  2019 train.csv.zip\r\n",
      "-rw-r--r--  1 butch  staff    76107 Dec 11  2019 weather.csv.zip\r\n",
      "-rw-r--r--  1 butch  staff  8588704 Dec 11  2019 west_nile.zip\r\n"
     ]
    }
   ],
   "source": [
    "!ls -ald *"
   ]
  },
  {
   "cell_type": "code",
   "execution_count": 11,
   "metadata": {},
   "outputs": [
    {
     "name": "stdout",
     "output_type": "stream",
     "text": [
      "/Users/butch/.fastai/data/predict-west-nile-virus\r\n"
     ]
    }
   ],
   "source": [
    "!pwd"
   ]
  },
  {
   "cell_type": "code",
   "execution_count": 21,
   "metadata": {},
   "outputs": [
    {
     "data": {
      "text/plain": [
       "(#9) [Path('mapdata_copyright_openstreetmap_contributors.rds'),Path('west_nile.zip'),Path('mapdata_copyright_openstreetmap_contributors.txt.zip'),Path('sampleSubmission.csv.zip'),Path('spray.csv.zip'),Path('test.csv.zip'),Path('train.csv.zip'),Path('noaa_weather_qclcd_documentation.pdf'),Path('weather.csv.zip')]"
      ]
     },
     "execution_count": 21,
     "metadata": {},
     "output_type": "execute_result"
    }
   ],
   "source": [
    "path = Path(INPUT_DIR/COMP_NAME); Path.BASE_PATH = path; path.ls()"
   ]
  },
  {
   "cell_type": "code",
   "execution_count": 22,
   "metadata": {},
   "outputs": [
    {
     "name": "stdout",
     "output_type": "stream",
     "text": [
      "/Users/butch/devt/workspaces/python3/fastai2_2020/fastchai_comps/predict-west-nile-virus/working\n"
     ]
    }
   ],
   "source": [
    "%cd {WORKING_DIR}"
   ]
  },
  {
   "cell_type": "code",
   "execution_count": 23,
   "metadata": {},
   "outputs": [
    {
     "name": "stdout",
     "output_type": "stream",
     "text": [
      "/Users/butch/.fastai/data/predict-west-nile-virus\n",
      "Archive:  weather.csv.zip\n",
      "  inflating: weather.csv             \n",
      "Archive:  train.csv.zip\n",
      "  inflating: train.csv               \n",
      "Archive:  test.csv.zip\n",
      "  inflating: test.csv                \n",
      "Archive:  spray.csv.zip\n",
      "  inflating: spray.csv               \n",
      "unzip:  cannot find or open sampleSubmission.zip, sampleSubmission.zip.zip or sampleSubmission.zip.ZIP.\n",
      "Archive:  mapdata_copyright_openstreetmap_contributors.txt.zip\n",
      "  inflating: mapdata_copyright_openstreetmap_contributors.txt  \n",
      "   creating: __MACOSX/\n",
      "  inflating: __MACOSX/._mapdata_copyright_openstreetmap_contributors.txt  \n",
      "Archive:  west_nile.zip\n",
      "   creating: west_nile/\n",
      "  inflating: west_nile/.DS_Store     \n",
      "   creating: __MACOSX/west_nile/\n",
      "  inflating: __MACOSX/west_nile/._.DS_Store  \n",
      "   creating: west_nile/input/\n",
      "  inflating: west_nile/input/mapdata_copyright_openstreetmap_contributors.rds  \n",
      "   creating: __MACOSX/west_nile/input/\n",
      "  inflating: __MACOSX/west_nile/input/._mapdata_copyright_openstreetmap_contributors.rds  \n",
      "  inflating: west_nile/input/mapdata_copyright_openstreetmap_contributors.txt  \n",
      "  inflating: __MACOSX/west_nile/input/._mapdata_copyright_openstreetmap_contributors.txt  \n",
      "  inflating: west_nile/input/noaa_weather_qclcd_documentation.pdf  \n",
      "  inflating: __MACOSX/west_nile/input/._noaa_weather_qclcd_documentation.pdf  \n",
      "  inflating: west_nile/input/sampleSubmission.csv  \n",
      "  inflating: __MACOSX/west_nile/input/._sampleSubmission.csv  \n",
      "  inflating: west_nile/input/spray.csv  \n",
      "  inflating: __MACOSX/west_nile/input/._spray.csv  \n",
      "  inflating: west_nile/input/test.csv  \n",
      "  inflating: __MACOSX/west_nile/input/._test.csv  \n",
      "  inflating: west_nile/input/train.csv  \n",
      "  inflating: __MACOSX/west_nile/input/._train.csv  \n",
      "  inflating: west_nile/input/weather.csv  \n",
      "  inflating: __MACOSX/west_nile/input/._weather.csv  \n",
      "  inflating: __MACOSX/west_nile/._input  \n",
      "  inflating: west_nile/README.md     \n",
      "  inflating: __MACOSX/west_nile/._README.md  \n",
      "  inflating: west_nile/render_rmarkdown.R  \n",
      "  inflating: __MACOSX/west_nile/._render_rmarkdown.R  \n",
      "   creating: west_nile/src/\n",
      "  inflating: west_nile/src/measurement_locations.ipynb  \n",
      "   creating: __MACOSX/west_nile/src/\n",
      "  inflating: __MACOSX/west_nile/src/._measurement_locations.ipynb  \n",
      "  inflating: west_nile/src/measurement_locations.py  \n",
      "  inflating: __MACOSX/west_nile/src/._measurement_locations.py  \n",
      "  inflating: west_nile/src/measurement_locations.R  \n",
      "  inflating: __MACOSX/west_nile/src/._measurement_locations.R  \n",
      "  inflating: west_nile/src/measurement_locations.Rmd  \n",
      "  inflating: __MACOSX/west_nile/src/._measurement_locations.Rmd  \n",
      "  inflating: __MACOSX/west_nile/._src  \n",
      "   creating: west_nile/working/\n",
      "  inflating: west_nile/working/output.html  \n",
      "   creating: __MACOSX/west_nile/working/\n",
      "  inflating: __MACOSX/west_nile/working/._output.html  \n",
      "  inflating: __MACOSX/west_nile/._working  \n",
      "  inflating: __MACOSX/._west_nile    \n"
     ]
    },
    {
     "data": {
      "text/plain": [
       "(#16) [Path('mapdata_copyright_openstreetmap_contributors.rds'),Path('spray.csv'),Path('west_nile.zip'),Path('test.csv'),Path('west_nile'),Path('mapdata_copyright_openstreetmap_contributors.txt.zip'),Path('__MACOSX'),Path('sampleSubmission.csv.zip'),Path('weather.csv'),Path('spray.csv.zip')...]"
      ]
     },
     "execution_count": 23,
     "metadata": {},
     "output_type": "execute_result"
    }
   ],
   "source": [
    "%cd {path}\n",
    "!unzip weather.csv.zip\n",
    "!unzip train.csv.zip\n",
    "!unzip test.csv.zip\n",
    "!unzip spray.csv.zip\n",
    "!unzip sampleSubmission.csv.zip\n",
    "!unzip mapdata_copyright_openstreetmap_contributors.txt.zip\n",
    "!unzip west_nile.zip\n",
    "path.ls()"
   ]
  },
  {
   "cell_type": "code",
   "execution_count": null,
   "metadata": {},
   "outputs": [],
   "source": [
    "!rm -rf __MACOSX\n"
   ]
  }
 ],
 "metadata": {
  "kernelspec": {
   "display_name": "Python 3",
   "language": "python",
   "name": "python3"
  },
  "language_info": {
   "codemirror_mode": {
    "name": "ipython",
    "version": 3
   },
   "file_extension": ".py",
   "mimetype": "text/x-python",
   "name": "python",
   "nbconvert_exporter": "python",
   "pygments_lexer": "ipython3",
   "version": "3.7.7"
  },
  "varInspector": {
   "cols": {
    "lenName": 16,
    "lenType": 16,
    "lenVar": 40
   },
   "kernels_config": {
    "python": {
     "delete_cmd_postfix": "",
     "delete_cmd_prefix": "del ",
     "library": "var_list.py",
     "varRefreshCmd": "print(var_dic_list())"
    },
    "r": {
     "delete_cmd_postfix": ") ",
     "delete_cmd_prefix": "rm(",
     "library": "var_list.r",
     "varRefreshCmd": "cat(var_dic_list()) "
    }
   },
   "types_to_exclude": [
    "module",
    "function",
    "builtin_function_or_method",
    "instance",
    "_Feature"
   ],
   "window_display": false
  }
 },
 "nbformat": 4,
 "nbformat_minor": 4
}
