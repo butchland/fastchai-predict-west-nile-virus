{
 "cells": [
  {
   "cell_type": "code",
   "execution_count": 1,
   "metadata": {},
   "outputs": [],
   "source": [
    "COMP_NAME = 'predict-west-nile-virus'"
   ]
  },
  {
   "cell_type": "code",
   "execution_count": 2,
   "metadata": {},
   "outputs": [],
   "source": [
    "from fastai.tabular.all import *"
   ]
  },
  {
   "cell_type": "code",
   "execution_count": 3,
   "metadata": {},
   "outputs": [],
   "source": [
    "cfg = Config()\n",
    "data_path = cfg.data_path\n",
    "archive_path = cfg.archive_path\n",
    "model_path = cfg.model_path"
   ]
  },
  {
   "cell_type": "code",
   "execution_count": null,
   "metadata": {},
   "outputs": [],
   "source": [
    "# run this once if paths not yet created \n",
    "# this assumes that this notebook is in <project-name>/working dir\n",
    "# and you have fastai setup\n",
    "# %cd ..\n",
    "# !mkdir -p working\n",
    "# !ln -s {data_path} input\n",
    "# !ln -s {archive_path} archive\n",
    "# !ln -s {model_path} models\n",
    "# %cd working"
   ]
  },
  {
   "cell_type": "code",
   "execution_count": 5,
   "metadata": {},
   "outputs": [],
   "source": [
    "WORKING_DIR = Path(\".\").absolute()\n",
    "INPUT_DIR = Path(\"../input\").absolute()\n",
    "ARCHIVE_DIR = Path(\"../archive\").absolute()\n",
    "MODELS_DIR = Path(\"../models\").absolute()"
   ]
  },
  {
   "cell_type": "code",
   "execution_count": null,
   "metadata": {},
   "outputs": [],
   "source": [
    "# !pip install -Uqq kaggle --upgrade"
   ]
  },
  {
   "cell_type": "code",
   "execution_count": 6,
   "metadata": {},
   "outputs": [
    {
     "name": "stdout",
     "output_type": "stream",
     "text": [
      "/Users/butch/.fastai/archive\n"
     ]
    }
   ],
   "source": [
    "# this assumes you have setup a kaggle.json auth token\n",
    "# in your $HOME/.kaggle directory (and set the file perm to 0600)\n",
    "%cd {ARCHIVE_DIR}\n",
    "# !kaggle competitions download -c {COMP_NAME}"
   ]
  },
  {
   "cell_type": "code",
   "execution_count": 7,
   "metadata": {},
   "outputs": [
    {
     "name": "stdout",
     "output_type": "stream",
     "text": [
      "-rw-r--r--  1 butch  staff  15074856 Nov 22 18:46 predict-west-nile-virus.zip\r\n"
     ]
    }
   ],
   "source": [
    "!ls -ald {COMP_NAME}.*"
   ]
  },
  {
   "cell_type": "code",
   "execution_count": 8,
   "metadata": {},
   "outputs": [
    {
     "name": "stdout",
     "output_type": "stream",
     "text": [
      "koryakinp_fingers.zip       predict-west-nile-virus.zip\r\n",
      "ml-100k.zip                 titanic.zip\r\n"
     ]
    }
   ],
   "source": [
    "!ls *.zip"
   ]
  },
  {
   "cell_type": "code",
   "execution_count": 9,
   "metadata": {},
   "outputs": [
    {
     "name": "stdout",
     "output_type": "stream",
     "text": [
      "/Users/butch/.fastai/data\n"
     ]
    }
   ],
   "source": [
    "%cd {INPUT_DIR}"
   ]
  },
  {
   "cell_type": "code",
   "execution_count": 10,
   "metadata": {},
   "outputs": [
    {
     "name": "stdout",
     "output_type": "stream",
     "text": [
      "/Users/butch/.fastai/data/predict-west-nile-virus\n"
     ]
    }
   ],
   "source": [
    "!mkdir -p {COMP_NAME}\n",
    "%cd {COMP_NAME}"
   ]
  },
  {
   "cell_type": "code",
   "execution_count": null,
   "metadata": {},
   "outputs": [],
   "source": [
    "# !unzip {ARCHIVE_DIR/COMP_NAME/'predict-west-nile-virus.zip'} "
   ]
  },
  {
   "cell_type": "code",
   "execution_count": 11,
   "metadata": {},
   "outputs": [
    {
     "name": "stdout",
     "output_type": "stream",
     "text": [
      "-rw-r--r--  1 butch  staff   2471791 Dec 11  2019 mapdata_copyright_openstreetmap_contributors.rds\r\n",
      "-rw-r--r--@ 1 butch  staff  40907049 Apr 23  2015 mapdata_copyright_openstreetmap_contributors.txt\r\n",
      "-rw-r--r--  1 butch  staff   2705397 Dec 11  2019 mapdata_copyright_openstreetmap_contributors.txt.zip\r\n",
      "-rw-r--r--@ 1 butch  staff     87217 Dec 11  2019 noaa_weather_qclcd_documentation.pdf\r\n",
      "-rw-r--r--  1 butch  staff    935550 Apr 22  2015 sampleSubmission.csv\r\n",
      "-rw-r--r--  1 butch  staff    250106 Dec 11  2019 sampleSubmission.csv.zip\r\n",
      "-rw-r--r--  1 butch  staff    796163 Apr 17  2015 spray.csv\r\n",
      "-rw-r--r--  1 butch  staff    135761 Dec 11  2019 spray.csv.zip\r\n",
      "-rw-r--r--  1 butch  staff  20033097 May 11  2018 test.csv\r\n",
      "-rw-r--r--  1 butch  staff   1412748 Dec 11  2019 test.csv.zip\r\n",
      "-rw-r--r--  1 butch  staff   1797335 Apr 17  2015 train.csv\r\n",
      "-rw-r--r--  1 butch  staff    116356 Dec 11  2019 train.csv.zip\r\n",
      "-rw-r--r--  1 butch  staff    358139 Apr 17  2015 weather.csv\r\n",
      "-rw-r--r--  1 butch  staff     76107 Dec 11  2019 weather.csv.zip\r\n",
      "drwxr-xr-x  8 butch  staff       256 May  2  2015 \u001b[34mwest_nile\u001b[m\u001b[m\r\n",
      "-rw-r--r--  1 butch  staff   8588704 Dec 11  2019 west_nile.zip\r\n"
     ]
    }
   ],
   "source": [
    "!ls -ald *"
   ]
  },
  {
   "cell_type": "code",
   "execution_count": 12,
   "metadata": {},
   "outputs": [
    {
     "name": "stdout",
     "output_type": "stream",
     "text": [
      "/Users/butch/.fastai/data/predict-west-nile-virus\r\n"
     ]
    }
   ],
   "source": [
    "!pwd"
   ]
  },
  {
   "cell_type": "code",
   "execution_count": 13,
   "metadata": {},
   "outputs": [
    {
     "data": {
      "text/plain": [
       "(#17) [Path('mapdata_copyright_openstreetmap_contributors.rds'),Path('spray.csv'),Path('west_nile.zip'),Path('.DS_Store'),Path('sampleSubmission.csv'),Path('test.csv'),Path('west_nile'),Path('mapdata_copyright_openstreetmap_contributors.txt.zip'),Path('sampleSubmission.csv.zip'),Path('weather.csv')...]"
      ]
     },
     "execution_count": 13,
     "metadata": {},
     "output_type": "execute_result"
    }
   ],
   "source": [
    "path = Path(INPUT_DIR/COMP_NAME); Path.BASE_PATH = path; path.ls()"
   ]
  },
  {
   "cell_type": "code",
   "execution_count": 14,
   "metadata": {},
   "outputs": [
    {
     "name": "stdout",
     "output_type": "stream",
     "text": [
      "/Users/butch/devt/workspaces/python3/fastai2_2020/fastchai_comps/predict-west-nile-virus/working\n"
     ]
    }
   ],
   "source": [
    "%cd {WORKING_DIR}"
   ]
  },
  {
   "cell_type": "code",
   "execution_count": 15,
   "metadata": {},
   "outputs": [
    {
     "name": "stdout",
     "output_type": "stream",
     "text": [
      "/Users/butch/.fastai/data/predict-west-nile-virus\n"
     ]
    },
    {
     "data": {
      "text/plain": [
       "(#17) [Path('mapdata_copyright_openstreetmap_contributors.rds'),Path('spray.csv'),Path('west_nile.zip'),Path('.DS_Store'),Path('sampleSubmission.csv'),Path('test.csv'),Path('west_nile'),Path('mapdata_copyright_openstreetmap_contributors.txt.zip'),Path('sampleSubmission.csv.zip'),Path('weather.csv')...]"
      ]
     },
     "execution_count": 15,
     "metadata": {},
     "output_type": "execute_result"
    }
   ],
   "source": [
    "%cd {path}\n",
    "# !unzip weather.csv.zip\n",
    "# !unzip train.csv.zip\n",
    "# !unzip test.csv.zip\n",
    "# !unzip spray.csv.zip\n",
    "# !unzip sampleSubmission.csv.zip\n",
    "# !unzip mapdata_copyright_openstreetmap_contributors.txt.zip\n",
    "# !unzip west_nile.zip\n",
    "path.ls()"
   ]
  },
  {
   "cell_type": "code",
   "execution_count": null,
   "metadata": {},
   "outputs": [],
   "source": [
    "# !rm -rf __MACOSX\n",
    "# !cp {path/'west_nile/src'}/*.ipynb {WORKING_DIR}\n",
    "%cd {WORKING_DIR}"
   ]
  }
 ],
 "metadata": {
  "kernelspec": {
   "display_name": "Python 3",
   "language": "python",
   "name": "python3"
  },
  "language_info": {
   "codemirror_mode": {
    "name": "ipython",
    "version": 3
   },
   "file_extension": ".py",
   "mimetype": "text/x-python",
   "name": "python",
   "nbconvert_exporter": "python",
   "pygments_lexer": "ipython3",
   "version": "3.7.7"
  },
  "varInspector": {
   "cols": {
    "lenName": 16,
    "lenType": 16,
    "lenVar": 40
   },
   "kernels_config": {
    "python": {
     "delete_cmd_postfix": "",
     "delete_cmd_prefix": "del ",
     "library": "var_list.py",
     "varRefreshCmd": "print(var_dic_list())"
    },
    "r": {
     "delete_cmd_postfix": ") ",
     "delete_cmd_prefix": "rm(",
     "library": "var_list.r",
     "varRefreshCmd": "cat(var_dic_list()) "
    }
   },
   "types_to_exclude": [
    "module",
    "function",
    "builtin_function_or_method",
    "instance",
    "_Feature"
   ],
   "window_display": false
  }
 },
 "nbformat": 4,
 "nbformat_minor": 4
}
