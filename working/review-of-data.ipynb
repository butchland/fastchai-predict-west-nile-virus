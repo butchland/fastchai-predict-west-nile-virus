{
 "cells": [
  {
   "cell_type": "markdown",
   "metadata": {},
   "source": [
    "### Review of Data\n",
    "#### Objectives and Schedules\n",
    "\n",
    "* 1304 Teams - top 10 percent - 130 team - see [Leaderboard](https://www.kaggle.com/c/predict-west-nile-virus/leaderboard#score)\n",
    "* 130 Team - Mandelbrot - Score: **0.79184**\n",
    "* Baseline score using - baseline-beat-the-benchmark.ipynb (from Abishek) - Position 680 - **0.70979**\n",
    "* Schedule Deadline: Dec 5, 2020\n",
    "\n",
    "#### List of Data Files\n",
    "\n",
    "* mapdata_copyright_openstreetmap_contributors.rds\n",
    "* mapdata_copyright_openstreetmap_contributors.txt\n",
    "* noaa_weather_qclcd_documentation.pdf\n",
    "* sampleSubmission.csv\n",
    "* spray.csv\n",
    "* test.csv\n",
    "* train.csv\n",
    "* weather.csv\n",
    "* west_nile/\n",
    "    * README.md\n",
    "    * render_markdown.R\n",
    "    * input\n",
    "        * mapdata_copyright_openstreetmap_contributors.rds\n",
    "        * mapdata_copyright_openstreetmap_contributors.txt\n",
    "        * noaa_weather_qclcd_documentation.pdf\n",
    "        * sampleSubmission.csv\n",
    "        * spray.csv\n",
    "        * test.csv\n",
    "        * train.csv\n",
    "        * weather.csv\n",
    "    * src\n",
    "        * measurement_locations.R\n",
    "        * measurement_locations.Rmd\n",
    "        * measurement_locations.ipynb\n",
    "        * measurement_locations.py\n",
    "    * working\n",
    "        * output.html\n"
   ]
  },
  {
   "cell_type": "markdown",
   "metadata": {},
   "source": [
    "### Main Data Files\n",
    "\n",
    "* train.csv\n",
    "    * count: 10,505\n",
    "    * columns:\n",
    "        * Date\n",
    "        * Location Related Columns\n",
    "            * Address\n",
    "            * Block \n",
    "            * Street\n",
    "            * AddressNumberAndStreet\n",
    "            * AddressAccuracy\n",
    "            * GeoPoint\n",
    "                * Latitude\n",
    "                * Longitude\n",
    "        * Species \n",
    "        * Trap\n",
    "        * NumMosquitos\n",
    "        * WnvPresent\n",
    "        \n",
    "* sampleSubmission.csv\n",
    "    * count: 116,292\n",
    "    * columns:\n",
    "        * Id\n",
    "        * WnvPresent\n",
    "        \n",
    "* test.csv\n",
    "    * count: 116,292\n",
    "    * columns:\n",
    "        * Id\n",
    "        * Date\n",
    "        * Location Related Columns\n",
    "            * Address\n",
    "            * Block \n",
    "            * Street\n",
    "            * AddressNumberAndStreet\n",
    "            * AddressAccuracy\n",
    "            * GeoPoint\n",
    "                * Latitude\n",
    "                * Longitude\n",
    "        * Species \n",
    "        * Trap\n",
    "        * NumMosquitos\n",
    "   "
   ]
  },
  {
   "cell_type": "markdown",
   "metadata": {},
   "source": [
    "#### Additional Data Files\n",
    "\n",
    "* weather.csv\n",
    "    * count: 2943\n",
    "    * columns:\n",
    "        * Station\n",
    "        * Date\n",
    "        * Tmax\n",
    "        * Tmin\n",
    "        * Tavg\n",
    "        * Depart\n",
    "        * DewPoint\n",
    "        * WetBulb\n",
    "        * Heat\n",
    "        * Cool\n",
    "        * Sunrise\n",
    "        * Sunset\n",
    "        * CodeSum\n",
    "        * Depth\n",
    "        * Water1\n",
    "        * SnowFall\n",
    "        * PrecipTotal\n",
    "        * StnPressure\n",
    "        * SeaLevel\n",
    "        * ResultSpeed\n",
    "        * ResultDir\n",
    "        * AvgSpeed\n",
    "* spray.csv\n",
    "    * count: 14,834\n",
    "    * columns:\n",
    "        * Date\n",
    "        * Time\n",
    "        * Geo Point\n",
    "            * Latitude\n",
    "            * Longitude\n",
    "            "
   ]
  }
 ],
 "metadata": {
  "kernelspec": {
   "display_name": "Python 3",
   "language": "python",
   "name": "python3"
  },
  "language_info": {
   "codemirror_mode": {
    "name": "ipython",
    "version": 3
   },
   "file_extension": ".py",
   "mimetype": "text/x-python",
   "name": "python",
   "nbconvert_exporter": "python",
   "pygments_lexer": "ipython3",
   "version": "3.7.7"
  },
  "varInspector": {
   "cols": {
    "lenName": 16,
    "lenType": 16,
    "lenVar": 40
   },
   "kernels_config": {
    "python": {
     "delete_cmd_postfix": "",
     "delete_cmd_prefix": "del ",
     "library": "var_list.py",
     "varRefreshCmd": "print(var_dic_list())"
    },
    "r": {
     "delete_cmd_postfix": ") ",
     "delete_cmd_prefix": "rm(",
     "library": "var_list.r",
     "varRefreshCmd": "cat(var_dic_list()) "
    }
   },
   "types_to_exclude": [
    "module",
    "function",
    "builtin_function_or_method",
    "instance",
    "_Feature"
   ],
   "window_display": false
  }
 },
 "nbformat": 4,
 "nbformat_minor": 4
}
